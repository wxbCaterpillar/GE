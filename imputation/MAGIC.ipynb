{
 "cells": [
  {
   "cell_type": "code",
   "execution_count": 1,
   "id": "fcd75277",
   "metadata": {},
   "outputs": [],
   "source": [
    "import magic\n",
    "import scprep\n",
    "\n",
    "import numpy as np\n",
    "import pandas as pd\n",
    "import matplotlib\n",
    "import matplotlib.pyplot as plt"
   ]
  },
  {
   "cell_type": "code",
   "execution_count": 2,
   "id": "e68cd31d",
   "metadata": {},
   "outputs": [],
   "source": [
    "inifile=pd.read_csv(\"inputfile.txt\",sep=\"\\t\",index_col=0)"
   ]
  },
  {
   "cell_type": "code",
   "execution_count": 3,
   "id": "9368ffc0",
   "metadata": {},
   "outputs": [
    {
     "name": "stdout",
     "output_type": "stream",
     "text": [
      "Calculating MAGIC...\n",
      "  Running MAGIC on 957 cells and 20689 genes.\n",
      "  Calculating graph and diffusion operator...\n",
      "    Calculating PCA...\n"
     ]
    },
    {
     "name": "stderr",
     "output_type": "stream",
     "text": [
      "/home/wuxiaobin/.local/lib/python3.8/site-packages/magic/magic.py:425: UserWarning: Input matrix contains unexpressed genes. Please remove them prior to running MAGIC.\n",
      "  warnings.warn(\n"
     ]
    },
    {
     "name": "stdout",
     "output_type": "stream",
     "text": [
      "    Calculated PCA in 2.61 seconds.\n",
      "    Calculating KNN search...\n",
      "    Calculated KNN search in 0.14 seconds.\n",
      "    Calculating affinities...\n",
      "    Calculated affinities in 0.11 seconds.\n",
      "  Calculated graph and diffusion operator in 3.01 seconds.\n",
      "  Running MAGIC with `solver='exact'` on 20689-dimensional data may take a long time. Consider denoising specific genes with `genes=<list-like>` or using `solver='approximate'`.\n",
      "  Calculating imputation...\n",
      "  Calculated imputation in 0.21 seconds.\n",
      "Calculated MAGIC in 3.32 seconds.\n"
     ]
    }
   ],
   "source": [
    "newfile=inifile\n",
    "mydata=newfile.T\n",
    "emt_data = scprep.normalize.library_size_normalize(mydata)\n",
    "magic_op = magic.MAGIC()\n",
    "emt_magic = magic_op.fit_transform(emt_data, genes=\"all_genes\")\n",
    "fmatrix=emt_magic.T\n",
    "ip_file=fmatrix"
   ]
  },
  {
   "cell_type": "code",
   "execution_count": 4,
   "id": "97d6ebd0",
   "metadata": {},
   "outputs": [],
   "source": [
    "ip_file.to_csv(\"outputfile.txt\",sep=\"\\t\")"
   ]
  }
 ],
 "metadata": {
  "kernelspec": {
   "display_name": "Python 3",
   "language": "python",
   "name": "python3"
  },
  "language_info": {
   "codemirror_mode": {
    "name": "ipython",
    "version": 3
   },
   "file_extension": ".py",
   "mimetype": "text/x-python",
   "name": "python",
   "nbconvert_exporter": "python",
   "pygments_lexer": "ipython3",
   "version": "3.8.8"
  }
 },
 "nbformat": 4,
 "nbformat_minor": 5
}
