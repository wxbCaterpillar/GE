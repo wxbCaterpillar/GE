{
 "cells": [
  {
   "cell_type": "code",
   "execution_count": 1,
   "id": "b67f21e6",
   "metadata": {},
   "outputs": [],
   "source": [
    "import scscope as DeepImpute\n",
    "import tensorflow.compat.v1 as tf\n",
    "import pandas as pd\n",
    "import numpy as np\n",
    "import tensorflow as tf"
   ]
  },
  {
   "cell_type": "code",
   "execution_count": 2,
   "id": "368efe49",
   "metadata": {},
   "outputs": [],
   "source": [
    "file=pd.read_csv(\"inputfile.txt\",sep=\"\\t\",index_col=0)"
   ]
  },
  {
   "cell_type": "code",
   "execution_count": 3,
   "id": "60bcf883",
   "metadata": {},
   "outputs": [],
   "source": [
    "data=np.mat(file.T)"
   ]
  },
  {
   "cell_type": "code",
   "execution_count": 4,
   "id": "a9d5f576",
   "metadata": {},
   "outputs": [],
   "source": [
    "DI_model = DeepImpute.train(\n",
    "          data,\n",
    "          latent_code_dim=50,\n",
    "          use_mask=True,\n",
    "          batch_size=64,\n",
    "          max_epoch=100,\n",
    "          epoch_per_check=100,\n",
    "          T=2,\n",
    "          exp_batch_idx_input=[],\n",
    "          encoder_layers=[],\n",
    "          decoder_layers=[],\n",
    "          learning_rate=0.0001,\n",
    "          beta1=0.05,\n",
    "          num_gpus=1)"
   ]
  },
  {
   "cell_type": "code",
   "execution_count": 5,
   "id": "50c4bb8f",
   "metadata": {},
   "outputs": [],
   "source": [
    "imputed_val = DeepImpute.predict(test_data=data, model=DI_model)"
   ]
  },
  {
   "cell_type": "code",
   "execution_count": 6,
   "id": "f90df049",
   "metadata": {},
   "outputs": [],
   "source": [
    "imputedata=pd.DataFrame(imputed_val[1]).T"
   ]
  },
  {
   "cell_type": "code",
   "execution_count": 7,
   "id": "43aa65bc",
   "metadata": {},
   "outputs": [],
   "source": [
    "imputedata.index=file.index.tolist()\n",
    "imputedata.columns=file.columns.tolist()"
   ]
  },
  {
   "cell_type": "code",
   "execution_count": 8,
   "id": "9ffcac8f",
   "metadata": {},
   "outputs": [],
   "source": [
    "imputedata.to_csv(\"outputfile.txt\",sep=\"\\t\")"
   ]
  }
 ],
 "metadata": {
  "kernelspec": {
   "display_name": "Python 3",
   "language": "python",
   "name": "python3"
  },
  "language_info": {
   "codemirror_mode": {
    "name": "ipython",
    "version": 3
   },
   "file_extension": ".py",
   "mimetype": "text/x-python",
   "name": "python",
   "nbconvert_exporter": "python",
   "pygments_lexer": "ipython3",
   "version": "3.8.8"
  }
 },
 "nbformat": 4,
 "nbformat_minor": 5
}
