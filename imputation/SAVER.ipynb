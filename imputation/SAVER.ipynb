{
 "cells": [
  {
   "cell_type": "code",
   "execution_count": 1,
   "id": "b2c3fc5d",
   "metadata": {},
   "outputs": [],
   "source": [
    "library(SAVER)"
   ]
  },
  {
   "cell_type": "code",
   "execution_count": 2,
   "id": "49952b84",
   "metadata": {},
   "outputs": [],
   "source": [
    "file <- read.table(\"inputfile.txt\",sep=\"\\t\",row.names = 1,header = TRUE)"
   ]
  },
  {
   "cell_type": "code",
   "execution_count": 3,
   "id": "8214b7f2",
   "metadata": {},
   "outputs": [
    {
     "name": "stderr",
     "output_type": "stream",
     "text": [
      "Converting x to matrix.\n",
      "\n",
      "Warning message in clean.data(x):\n",
      "“Make sure x is numeric.”\n",
      "20689 genes, 957 cells\n",
      "\n",
      "Running SAVER with 12 worker(s)\n",
      "\n",
      "Calculating predictions for 20666 genes using 12797 genes and 957 cells...\n",
      "\n",
      "Start time: 2022-03-31 01:13:53\n",
      "\n",
      "Estimating finish time...\n",
      "\n",
      "Finished 12/20689 genes. Approximate finish time: 2022-03-31 01:18:53\n",
      "\n",
      "Calculating max cor cutoff...\n",
      "\n",
      "Finished 100/20689 genes. Approximate finish time: 2022-03-31 01:25:48\n",
      "\n",
      "Calculating lambda coefficients...\n",
      "\n",
      "Finished 309/20689 genes. Approximate finish time: 2022-03-31 01:29:05\n",
      "\n",
      "Predicting remaining genes...\n",
      "\n",
      "Finished 5399/20689 genes. Approximate finish time: 2022-03-31 01:36:53\n",
      "\n",
      "Predicting remaining genes...\n",
      "\n",
      "Finished 20666/20689 genes. Approximate finish time: 2022-03-31 01:39:43\n",
      "\n",
      "Estimating remaining 23 genes.\n",
      "\n",
      "Done!\n",
      "\n",
      "Finish time: 2022-03-31 01:39:45\n",
      "\n",
      "Total time: 25.87128 mins\n",
      "\n"
     ]
    }
   ],
   "source": [
    "cortex.saver <- saver(file, ncores = 12)"
   ]
  },
  {
   "cell_type": "code",
   "execution_count": 4,
   "id": "332b721c",
   "metadata": {},
   "outputs": [],
   "source": [
    "efile <- cortex.saver$estimate"
   ]
  },
  {
   "cell_type": "code",
   "execution_count": 5,
   "id": "6dfcd209",
   "metadata": {},
   "outputs": [],
   "source": [
    "write.table(efile,\"outputfile.txt\",sep=\"\\t\",quote=FALSE)"
   ]
  },
  {
   "cell_type": "code",
   "execution_count": null,
   "id": "50e2dd37",
   "metadata": {},
   "outputs": [],
   "source": []
  }
 ],
 "metadata": {
  "kernelspec": {
   "display_name": "R",
   "language": "R",
   "name": "ir"
  },
  "language_info": {
   "codemirror_mode": "r",
   "file_extension": ".r",
   "mimetype": "text/x-r-source",
   "name": "R",
   "pygments_lexer": "r",
   "version": "4.0.3"
  }
 },
 "nbformat": 4,
 "nbformat_minor": 5
}
