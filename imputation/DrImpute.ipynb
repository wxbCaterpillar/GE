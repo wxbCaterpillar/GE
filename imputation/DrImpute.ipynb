{
 "cells": [
  {
   "cell_type": "code",
   "execution_count": 1,
   "id": "a5ef117a",
   "metadata": {},
   "outputs": [],
   "source": [
    "library(DrImpute)"
   ]
  },
  {
   "cell_type": "code",
   "execution_count": 2,
   "id": "c37db3a6",
   "metadata": {},
   "outputs": [],
   "source": [
    "file=read.csv(\"inputfile.txt\",sep=\"\\t\",row.names = 1)"
   ]
  },
  {
   "cell_type": "code",
   "execution_count": 3,
   "id": "5c118e2c",
   "metadata": {},
   "outputs": [
    {
     "data": {
      "text/html": [
       "<table class=\"dataframe\">\n",
       "<caption>A data.frame: 6 × 957</caption>\n",
       "<thead>\n",
       "\t<tr><th></th><th scope=col>blood_bdca3_S1</th><th scope=col>blood_bdca3_S2</th><th scope=col>blood_bdca3_S3</th><th scope=col>blood_bdca3_S4</th><th scope=col>blood_bdca3_S5</th><th scope=col>blood_bdca3_S6</th><th scope=col>blood_bdca3_S7</th><th scope=col>blood_bdca3_S8</th><th scope=col>blood_bdca3_S9</th><th scope=col>blood_bdca3_S10</th><th scope=col>⋯</th><th scope=col>blood_predc_S332</th><th scope=col>blood_predc_S333</th><th scope=col>blood_predc_S334</th><th scope=col>blood_predc_S335</th><th scope=col>blood_predc_S336</th><th scope=col>blood_predc_S337</th><th scope=col>blood_predc_S338</th><th scope=col>blood_predc_S339</th><th scope=col>blood_predc_S340</th><th scope=col>blood_predc_S341</th></tr>\n",
       "\t<tr><th></th><th scope=col>&lt;dbl&gt;</th><th scope=col>&lt;dbl&gt;</th><th scope=col>&lt;dbl&gt;</th><th scope=col>&lt;dbl&gt;</th><th scope=col>&lt;dbl&gt;</th><th scope=col>&lt;dbl&gt;</th><th scope=col>&lt;dbl&gt;</th><th scope=col>&lt;dbl&gt;</th><th scope=col>&lt;dbl&gt;</th><th scope=col>&lt;dbl&gt;</th><th scope=col>⋯</th><th scope=col>&lt;dbl&gt;</th><th scope=col>&lt;dbl&gt;</th><th scope=col>&lt;dbl&gt;</th><th scope=col>&lt;dbl&gt;</th><th scope=col>&lt;dbl&gt;</th><th scope=col>&lt;dbl&gt;</th><th scope=col>&lt;dbl&gt;</th><th scope=col>&lt;dbl&gt;</th><th scope=col>&lt;dbl&gt;</th><th scope=col>&lt;dbl&gt;</th></tr>\n",
       "</thead>\n",
       "<tbody>\n",
       "\t<tr><th scope=row>5_8S_RRNA</th><td>0.000000</td><td>0</td><td>0</td><td>0</td><td>0.000000</td><td>0.000000</td><td>0.000000</td><td>0</td><td>0</td><td>0</td><td>⋯</td><td>0</td><td>0.000000</td><td>0</td><td>0.000000</td><td>0</td><td>0</td><td>0.000000</td><td>0.000000</td><td>0.000000</td><td>0.000000</td></tr>\n",
       "\t<tr><th scope=row>5S_RRNA</th><td>0.000000</td><td>0</td><td>0</td><td>0</td><td>0.000000</td><td>0.000000</td><td>0.000000</td><td>0</td><td>0</td><td>0</td><td>⋯</td><td>0</td><td>0.000000</td><td>0</td><td>0.000000</td><td>0</td><td>0</td><td>4.202052</td><td>0.000000</td><td>0.000000</td><td>0.000000</td></tr>\n",
       "\t<tr><th scope=row>7SK</th><td>0.000000</td><td>0</td><td>0</td><td>0</td><td>0.000000</td><td>0.000000</td><td>0.000000</td><td>0</td><td>0</td><td>0</td><td>⋯</td><td>0</td><td>0.000000</td><td>0</td><td>0.000000</td><td>0</td><td>0</td><td>3.799924</td><td>0.000000</td><td>0.000000</td><td>0.000000</td></tr>\n",
       "\t<tr><th scope=row>A-589H1.1</th><td>0.000000</td><td>0</td><td>0</td><td>0</td><td>0.000000</td><td>0.000000</td><td>0.000000</td><td>0</td><td>0</td><td>0</td><td>⋯</td><td>0</td><td>0.000000</td><td>0</td><td>0.000000</td><td>0</td><td>0</td><td>0.000000</td><td>0.000000</td><td>3.151569</td><td>0.000000</td></tr>\n",
       "\t<tr><th scope=row>A1BG</th><td>2.700794</td><td>0</td><td>0</td><td>0</td><td>3.263761</td><td>2.684863</td><td>1.159049</td><td>0</td><td>0</td><td>0</td><td>⋯</td><td>0</td><td>0.883317</td><td>0</td><td>0.000000</td><td>0</td><td>0</td><td>2.867461</td><td>2.978545</td><td>0.000000</td><td>3.038959</td></tr>\n",
       "\t<tr><th scope=row>A1BG-AS1</th><td>0.000000</td><td>0</td><td>0</td><td>0</td><td>0.000000</td><td>0.000000</td><td>0.000000</td><td>0</td><td>0</td><td>0</td><td>⋯</td><td>0</td><td>2.775029</td><td>0</td><td>1.503684</td><td>0</td><td>0</td><td>0.000000</td><td>0.000000</td><td>0.000000</td><td>0.000000</td></tr>\n",
       "</tbody>\n",
       "</table>\n"
      ],
      "text/latex": [
       "A data.frame: 6 × 957\n",
       "\\begin{tabular}{r|lllllllllllllllllllll}\n",
       "  & blood\\_bdca3\\_S1 & blood\\_bdca3\\_S2 & blood\\_bdca3\\_S3 & blood\\_bdca3\\_S4 & blood\\_bdca3\\_S5 & blood\\_bdca3\\_S6 & blood\\_bdca3\\_S7 & blood\\_bdca3\\_S8 & blood\\_bdca3\\_S9 & blood\\_bdca3\\_S10 & ⋯ & blood\\_predc\\_S332 & blood\\_predc\\_S333 & blood\\_predc\\_S334 & blood\\_predc\\_S335 & blood\\_predc\\_S336 & blood\\_predc\\_S337 & blood\\_predc\\_S338 & blood\\_predc\\_S339 & blood\\_predc\\_S340 & blood\\_predc\\_S341\\\\\n",
       "  & <dbl> & <dbl> & <dbl> & <dbl> & <dbl> & <dbl> & <dbl> & <dbl> & <dbl> & <dbl> & ⋯ & <dbl> & <dbl> & <dbl> & <dbl> & <dbl> & <dbl> & <dbl> & <dbl> & <dbl> & <dbl>\\\\\n",
       "\\hline\n",
       "\t5\\_8S\\_RRNA & 0.000000 & 0 & 0 & 0 & 0.000000 & 0.000000 & 0.000000 & 0 & 0 & 0 & ⋯ & 0 & 0.000000 & 0 & 0.000000 & 0 & 0 & 0.000000 & 0.000000 & 0.000000 & 0.000000\\\\\n",
       "\t5S\\_RRNA & 0.000000 & 0 & 0 & 0 & 0.000000 & 0.000000 & 0.000000 & 0 & 0 & 0 & ⋯ & 0 & 0.000000 & 0 & 0.000000 & 0 & 0 & 4.202052 & 0.000000 & 0.000000 & 0.000000\\\\\n",
       "\t7SK & 0.000000 & 0 & 0 & 0 & 0.000000 & 0.000000 & 0.000000 & 0 & 0 & 0 & ⋯ & 0 & 0.000000 & 0 & 0.000000 & 0 & 0 & 3.799924 & 0.000000 & 0.000000 & 0.000000\\\\\n",
       "\tA-589H1.1 & 0.000000 & 0 & 0 & 0 & 0.000000 & 0.000000 & 0.000000 & 0 & 0 & 0 & ⋯ & 0 & 0.000000 & 0 & 0.000000 & 0 & 0 & 0.000000 & 0.000000 & 3.151569 & 0.000000\\\\\n",
       "\tA1BG & 2.700794 & 0 & 0 & 0 & 3.263761 & 2.684863 & 1.159049 & 0 & 0 & 0 & ⋯ & 0 & 0.883317 & 0 & 0.000000 & 0 & 0 & 2.867461 & 2.978545 & 0.000000 & 3.038959\\\\\n",
       "\tA1BG-AS1 & 0.000000 & 0 & 0 & 0 & 0.000000 & 0.000000 & 0.000000 & 0 & 0 & 0 & ⋯ & 0 & 2.775029 & 0 & 1.503684 & 0 & 0 & 0.000000 & 0.000000 & 0.000000 & 0.000000\\\\\n",
       "\\end{tabular}\n"
      ],
      "text/markdown": [
       "\n",
       "A data.frame: 6 × 957\n",
       "\n",
       "| <!--/--> | blood_bdca3_S1 &lt;dbl&gt; | blood_bdca3_S2 &lt;dbl&gt; | blood_bdca3_S3 &lt;dbl&gt; | blood_bdca3_S4 &lt;dbl&gt; | blood_bdca3_S5 &lt;dbl&gt; | blood_bdca3_S6 &lt;dbl&gt; | blood_bdca3_S7 &lt;dbl&gt; | blood_bdca3_S8 &lt;dbl&gt; | blood_bdca3_S9 &lt;dbl&gt; | blood_bdca3_S10 &lt;dbl&gt; | ⋯ ⋯ | blood_predc_S332 &lt;dbl&gt; | blood_predc_S333 &lt;dbl&gt; | blood_predc_S334 &lt;dbl&gt; | blood_predc_S335 &lt;dbl&gt; | blood_predc_S336 &lt;dbl&gt; | blood_predc_S337 &lt;dbl&gt; | blood_predc_S338 &lt;dbl&gt; | blood_predc_S339 &lt;dbl&gt; | blood_predc_S340 &lt;dbl&gt; | blood_predc_S341 &lt;dbl&gt; |\n",
       "|---|---|---|---|---|---|---|---|---|---|---|---|---|---|---|---|---|---|---|---|---|---|\n",
       "| 5_8S_RRNA | 0.000000 | 0 | 0 | 0 | 0.000000 | 0.000000 | 0.000000 | 0 | 0 | 0 | ⋯ | 0 | 0.000000 | 0 | 0.000000 | 0 | 0 | 0.000000 | 0.000000 | 0.000000 | 0.000000 |\n",
       "| 5S_RRNA | 0.000000 | 0 | 0 | 0 | 0.000000 | 0.000000 | 0.000000 | 0 | 0 | 0 | ⋯ | 0 | 0.000000 | 0 | 0.000000 | 0 | 0 | 4.202052 | 0.000000 | 0.000000 | 0.000000 |\n",
       "| 7SK | 0.000000 | 0 | 0 | 0 | 0.000000 | 0.000000 | 0.000000 | 0 | 0 | 0 | ⋯ | 0 | 0.000000 | 0 | 0.000000 | 0 | 0 | 3.799924 | 0.000000 | 0.000000 | 0.000000 |\n",
       "| A-589H1.1 | 0.000000 | 0 | 0 | 0 | 0.000000 | 0.000000 | 0.000000 | 0 | 0 | 0 | ⋯ | 0 | 0.000000 | 0 | 0.000000 | 0 | 0 | 0.000000 | 0.000000 | 3.151569 | 0.000000 |\n",
       "| A1BG | 2.700794 | 0 | 0 | 0 | 3.263761 | 2.684863 | 1.159049 | 0 | 0 | 0 | ⋯ | 0 | 0.883317 | 0 | 0.000000 | 0 | 0 | 2.867461 | 2.978545 | 0.000000 | 3.038959 |\n",
       "| A1BG-AS1 | 0.000000 | 0 | 0 | 0 | 0.000000 | 0.000000 | 0.000000 | 0 | 0 | 0 | ⋯ | 0 | 2.775029 | 0 | 1.503684 | 0 | 0 | 0.000000 | 0.000000 | 0.000000 | 0.000000 |\n",
       "\n"
      ],
      "text/plain": [
       "          blood_bdca3_S1 blood_bdca3_S2 blood_bdca3_S3 blood_bdca3_S4\n",
       "5_8S_RRNA 0.000000       0              0              0             \n",
       "5S_RRNA   0.000000       0              0              0             \n",
       "7SK       0.000000       0              0              0             \n",
       "A-589H1.1 0.000000       0              0              0             \n",
       "A1BG      2.700794       0              0              0             \n",
       "A1BG-AS1  0.000000       0              0              0             \n",
       "          blood_bdca3_S5 blood_bdca3_S6 blood_bdca3_S7 blood_bdca3_S8\n",
       "5_8S_RRNA 0.000000       0.000000       0.000000       0             \n",
       "5S_RRNA   0.000000       0.000000       0.000000       0             \n",
       "7SK       0.000000       0.000000       0.000000       0             \n",
       "A-589H1.1 0.000000       0.000000       0.000000       0             \n",
       "A1BG      3.263761       2.684863       1.159049       0             \n",
       "A1BG-AS1  0.000000       0.000000       0.000000       0             \n",
       "          blood_bdca3_S9 blood_bdca3_S10 ⋯ blood_predc_S332 blood_predc_S333\n",
       "5_8S_RRNA 0              0               ⋯ 0                0.000000        \n",
       "5S_RRNA   0              0               ⋯ 0                0.000000        \n",
       "7SK       0              0               ⋯ 0                0.000000        \n",
       "A-589H1.1 0              0               ⋯ 0                0.000000        \n",
       "A1BG      0              0               ⋯ 0                0.883317        \n",
       "A1BG-AS1  0              0               ⋯ 0                2.775029        \n",
       "          blood_predc_S334 blood_predc_S335 blood_predc_S336 blood_predc_S337\n",
       "5_8S_RRNA 0                0.000000         0                0               \n",
       "5S_RRNA   0                0.000000         0                0               \n",
       "7SK       0                0.000000         0                0               \n",
       "A-589H1.1 0                0.000000         0                0               \n",
       "A1BG      0                0.000000         0                0               \n",
       "A1BG-AS1  0                1.503684         0                0               \n",
       "          blood_predc_S338 blood_predc_S339 blood_predc_S340 blood_predc_S341\n",
       "5_8S_RRNA 0.000000         0.000000         0.000000         0.000000        \n",
       "5S_RRNA   4.202052         0.000000         0.000000         0.000000        \n",
       "7SK       3.799924         0.000000         0.000000         0.000000        \n",
       "A-589H1.1 0.000000         0.000000         3.151569         0.000000        \n",
       "A1BG      2.867461         2.978545         0.000000         3.038959        \n",
       "A1BG-AS1  0.000000         0.000000         0.000000         0.000000        "
      ]
     },
     "metadata": {},
     "output_type": "display_data"
    }
   ],
   "source": [
    "head(file)"
   ]
  },
  {
   "cell_type": "code",
   "execution_count": 4,
   "id": "164b9dac",
   "metadata": {},
   "outputs": [],
   "source": [
    "file.log <- log(file + 1)"
   ]
  },
  {
   "cell_type": "code",
   "execution_count": 5,
   "id": "7d4c2964",
   "metadata": {},
   "outputs": [
    {
     "name": "stdout",
     "output_type": "stream",
     "text": [
      "[2022-03-31 01:18:15] number of cells: 957\n",
      "[2022-03-31 01:18:15] number of genes: 20689\n",
      "[2022-03-31 01:18:16] % zero events (X=0): 83.0%\n",
      "[2022-03-31 01:18:16] % robustly expressed events (X>5): 3.3%\n",
      "[2022-03-31 01:18:16] # of CPU cores: 1\n",
      "[2022-03-31 01:19:54] imputing zeros\n",
      "[2022-03-31 01:20:20] % zero events after imputation: 7.6%\n"
     ]
    }
   ],
   "source": [
    "set.seed(1)\n",
    "file.imp <- DrImpute(as.matrix(file.log))"
   ]
  },
  {
   "cell_type": "code",
   "execution_count": 6,
   "id": "244e2a91",
   "metadata": {},
   "outputs": [],
   "source": [
    "write.table(file.imp,\"outputfile.txt\",sep=\"\\t\",quote = FALSE)"
   ]
  }
 ],
 "metadata": {
  "kernelspec": {
   "display_name": "R",
   "language": "R",
   "name": "ir"
  },
  "language_info": {
   "codemirror_mode": "r",
   "file_extension": ".r",
   "mimetype": "text/x-r-source",
   "name": "R",
   "pygments_lexer": "r",
   "version": "4.0.3"
  }
 },
 "nbformat": 4,
 "nbformat_minor": 5
}
